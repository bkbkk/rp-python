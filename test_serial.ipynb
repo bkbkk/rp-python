{
 "cells": [
  {
   "cell_type": "code",
   "execution_count": 1,
   "id": "9b61b84e-f3bc-4dc2-b77a-32cff561ec2b",
   "metadata": {},
   "outputs": [],
   "source": [
    "import struct"
   ]
  },
  {
   "cell_type": "code",
   "execution_count": 2,
   "id": "3b78f9f4-fee5-4f5f-bbf4-026cf647d722",
   "metadata": {},
   "outputs": [
    {
     "name": "stdout",
     "output_type": "stream",
     "text": [
      "receive data length:  10\n",
      "send    data length:  23\n"
     ]
    }
   ],
   "source": [
    "from Serial import SerialPort\n",
    "port  = '/dev/ttyUSB0'\n",
    "bps   = 115200\n",
    "timeout = 1\n",
    "ser = SerialPort(port, bps, timeout)"
   ]
  },
  {
   "cell_type": "code",
   "execution_count": 3,
   "id": "54b69b39-8e85-4f64-87f4-1c36a0bb1a34",
   "metadata": {},
   "outputs": [
    {
     "name": "stdout",
     "output_type": "stream",
     "text": [
      "name:          /dev/ttyUSB0\n",
      "port:          /dev/ttyUSB0\n",
      "baudrate:      115200\n",
      "bytesize:      8\n",
      "parity:        N\n",
      "stopbits:      1\n",
      "readTimeout:   0\n",
      "writeTimeout:  0\n",
      "reopen the serial and set the param, now status:  True\n"
     ]
    }
   ],
   "source": [
    "ser.SetParam(readtimeout=0)"
   ]
  },
  {
   "cell_type": "code",
   "execution_count": 4,
   "id": "87b61f9b-6b34-498b-b866-f6cab8f045c0",
   "metadata": {},
   "outputs": [
    {
     "name": "stdout",
     "output_type": "stream",
     "text": [
      "send    buffer:          0\n",
      "receive buffer:          0\n",
      "serial open status:  False\n",
      "serial open status:  True\n",
      "send    buffer:          0\n",
      "receive buffer:          0\n"
     ]
    }
   ],
   "source": [
    "ser.PrintBuffer()\n",
    "ser.Close()\n",
    "ser.Open()\n",
    "ser.PrintBuffer()"
   ]
  },
  {
   "cell_type": "code",
   "execution_count": 5,
   "id": "15140387-8261-45e7-85fc-d9fb7f87ab65",
   "metadata": {},
   "outputs": [
    {
     "name": "stdout",
     "output_type": "stream",
     "text": [
      "b'\\xa5\\x03r\\xbb\\x00\\x004BzZ'\n",
      "None\n"
     ]
    }
   ],
   "source": [
    "data = ser.serial.read(10)\n",
    "print (data)\n",
    "data = ser.Receive()\n",
    "print (data)"
   ]
  },
  {
   "cell_type": "code",
   "execution_count": 52,
   "id": "965ba004-00e8-4c3f-85e4-2971e7a81676",
   "metadata": {},
   "outputs": [
    {
     "name": "stdout",
     "output_type": "stream",
     "text": [
      "before out buffer:  0\n",
      "after out buffer:  23\n",
      "b'\\xa5\\x03r\\xc9\\xc0\\xd7Bl\\xbf\\x03A\\xc6\\xbf\\x13A\\x01\\x02\\x03\\x04\\x05\\x06[\\x01'\n"
     ]
    }
   ],
   "source": [
    "Data = {'mode':3, 'pitch': 107.8765342, 'yaw': 8.234234, 'distance': 9.23432,\n",
    "       'test_1': 1, 'test_2': 2, 'test_3': 3, 'test_4': 4, 'test_5': 5, 'test_6': 6}\n",
    "data_byte = ser.Send(Data)\n",
    "print (data_byte)"
   ]
  },
  {
   "cell_type": "code",
   "execution_count": 54,
   "id": "706aad46-4ec3-4cba-b5af-666d52e0922e",
   "metadata": {},
   "outputs": [
    {
     "name": "stdout",
     "output_type": "stream",
     "text": [
      "[165, 3, 114, 187, 146.3450927734375, 255, 73]\n"
     ]
    }
   ],
   "source": [
    "data = ser.Receive()\n",
    "print (data)"
   ]
  },
  {
   "cell_type": "code",
   "execution_count": 55,
   "id": "b748e289-94c4-4f87-86eb-c3f32974222a",
   "metadata": {},
   "outputs": [
    {
     "name": "stdout",
     "output_type": "stream",
     "text": [
      "serial open status:  False\n"
     ]
    }
   ],
   "source": [
    "ser.Close()"
   ]
  },
  {
   "cell_type": "code",
   "execution_count": 9,
   "id": "e18a6e40-63c7-4b2d-90fc-b200fbb3356c",
   "metadata": {},
   "outputs": [],
   "source": [
    "# while True:\n",
    "#     data_byte = ser.Send(Data)"
   ]
  }
 ],
 "metadata": {
  "kernelspec": {
   "display_name": "Python 3",
   "language": "python",
   "name": "python3"
  },
  "language_info": {
   "codemirror_mode": {
    "name": "ipython",
    "version": 3
   },
   "file_extension": ".py",
   "mimetype": "text/x-python",
   "name": "python",
   "nbconvert_exporter": "python",
   "pygments_lexer": "ipython3",
   "version": "3.8.10"
  }
 },
 "nbformat": 4,
 "nbformat_minor": 5
}
