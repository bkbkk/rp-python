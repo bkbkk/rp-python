{
 "cells": [
  {
   "cell_type": "code",
   "execution_count": 20,
   "id": "limited-twelve",
   "metadata": {},
   "outputs": [],
   "source": [
    "import sys\n",
    "sys.path.remove('/opt/ros/kinetic/lib/python2.7/dist-packages')\n",
    "import cv2\n",
    "import struct"
   ]
  },
  {
   "cell_type": "code",
   "execution_count": 6,
   "id": "diverse-conditioning",
   "metadata": {},
   "outputs": [
    {
     "name": "stdout",
     "output_type": "stream",
     "text": [
      "2021-07-17 13:09:03.294820\n",
      "2021-07-17_13:09:03.avi\n",
      "<class 'datetime.datetime'>\n"
     ]
    }
   ],
   "source": [
    "from datetime import datetime\n",
    "a = datetime.now()\n",
    "print (a)\n",
    "print (str(a).replace(' ', '_').split('.')[0] + '.avi')\n",
    "print (type(a))"
   ]
  },
  {
   "cell_type": "code",
   "execution_count": 27,
   "id": "increasing-venice",
   "metadata": {},
   "outputs": [
    {
     "name": "stdout",
     "output_type": "stream",
     "text": [
      "b'\\xa5\\x03\\x00\\xbb\\n\\xd7\\xe3@\\x00\\x00'\n",
      "[165, 3, 0, 187, 10, 215, 227, 64, 0, 0]\n",
      "[165, 3, 114, 187, 10, 215, 227, 64, 255, 180]\n"
     ]
    }
   ],
   "source": [
    "fmt = 'BBBBfBB'\n",
    "a = [0xa5, 3, 0x00, 187, 7.12, 0x00, 0x00]\n",
    "b = struct.pack(fmt, *a)\n",
    "print (b)\n",
    "c = [i for i in b]\n",
    "print (c)\n",
    "c = ser.CRC.Append_CRC_8(c, 3)\n",
    "c = ser.CRC.Append_CRC_16(c, 10)\n",
    "print (c)"
   ]
  },
  {
   "cell_type": "code",
   "execution_count": 10,
   "id": "listed-method",
   "metadata": {},
   "outputs": [
    {
     "name": "stdout",
     "output_type": "stream",
     "text": [
      "b'\\xa5'\n"
     ]
    }
   ],
   "source": [
    "a = b'\\xa5' + b'\\x03\\xbb'\n",
    "print (a[0:1])\n",
    "# print (struct.pack('B', 114))"
   ]
  },
  {
   "cell_type": "code",
   "execution_count": 46,
   "id": "obvious-today",
   "metadata": {},
   "outputs": [
    {
     "name": "stdout",
     "output_type": "stream",
     "text": [
      "b'\\n\\xd7\\xe3@\\xbb'\n",
      "5\n"
     ]
    }
   ],
   "source": [
    "a = b'\\xa5\\x03\\x00'\n",
    "b = struct.pack('fB', 7.12, 187)\n",
    "# c = struct.calcsize('fB')\n",
    "print (b)\n",
    "print (len(b))\n",
    "# print (c)"
   ]
  },
  {
   "cell_type": "code",
   "execution_count": 1,
   "id": "coordinated-monitor",
   "metadata": {},
   "outputs": [
    {
     "name": "stdout",
     "output_type": "stream",
     "text": [
      "receive data length:  10\n",
      "send    data length:  10\n"
     ]
    }
   ],
   "source": [
    "from Serial import SerialPort\n",
    "port  = '/dev/ttyUSB1'\n",
    "bps   = 115200\n",
    "timeout = 1\n",
    "ser = SerialPort(port, bps, timeout)\n",
    "# ser.GetParam()\n",
    "# print (ser.CRC.CRC8_INIT)"
   ]
  },
  {
   "cell_type": "code",
   "execution_count": 2,
   "id": "whole-melbourne",
   "metadata": {},
   "outputs": [
    {
     "name": "stdout",
     "output_type": "stream",
     "text": [
      "name:          /dev/ttyUSB1\n",
      "port:          /dev/ttyUSB1\n",
      "baudrate:      115200\n",
      "bytesize:      8\n",
      "parity:        N\n",
      "stopbits:      1\n",
      "readTimeout:   0\n",
      "writeTimeout:  None\n",
      "reopen the serial and set the param, now status:  True\n"
     ]
    }
   ],
   "source": [
    "ser.SetParam(readtimeout=0)"
   ]
  },
  {
   "cell_type": "code",
   "execution_count": 6,
   "id": "tracked-breach",
   "metadata": {},
   "outputs": [
    {
     "name": "stdout",
     "output_type": "stream",
     "text": [
      "send    buffer:          0\n",
      "receive buffer:          80\n",
      "serial open status:  False\n",
      "serial open status:  True\n",
      "send    buffer:          0\n",
      "receive buffer:          0\n"
     ]
    }
   ],
   "source": [
    "ser.PrintBuffer()\n",
    "ser.Close()\n",
    "ser.Open()\n",
    "ser.PrintBuffer()"
   ]
  },
  {
   "cell_type": "code",
   "execution_count": 54,
   "id": "hawaiian-rings",
   "metadata": {},
   "outputs": [
    {
     "name": "stdout",
     "output_type": "stream",
     "text": [
      "b'\\xa5\\x03r\\xbb\\n\\xd7\\xe3@\\xff\\xb4'\n",
      "[165, 3, 114, 187, 7.119999885559082, 255, 180]\n",
      "before out buffer:  0\n",
      "result:  10\n",
      "before out buffer:  0\n",
      "b'\\xa5\\x03r\\xbb\\n\\xd7\\xe3@\\xff\\xb4'\n"
     ]
    }
   ],
   "source": [
    "data = ser.serial.read(10)\n",
    "print (data)\n",
    "# a = [i for i in data]\n",
    "# print (a)\n",
    "# print (data[0:10])\n",
    "# import time\n",
    "# while True:\n",
    "#     time.sleep(0.06)\n",
    "data = ser.Receive()\n",
    "print (data)\n",
    "Data = {'mode':3, 'pitch': 187, 'yaw': 7.12}\n",
    "data_byte = ser.Send(Data)\n",
    "print (data_byte)"
   ]
  },
  {
   "cell_type": "code",
   "execution_count": 34,
   "id": "fleet-bidding",
   "metadata": {},
   "outputs": [
    {
     "name": "stdout",
     "output_type": "stream",
     "text": [
      "165\n",
      "3\n",
      "114\n",
      "187\n",
      "7.119999885559082\n",
      "255\n",
      "180\n",
      "True\n"
     ]
    },
    {
     "ename": "TypeError",
     "evalue": "unsupported operand type(s) for ^: 'int' and 'float'",
     "output_type": "error",
     "traceback": [
      "\u001b[0;31m---------------------------------------------------------------------------\u001b[0m",
      "\u001b[0;31mTypeError\u001b[0m                                 Traceback (most recent call last)",
      "\u001b[0;32m<ipython-input-34-52555f4a3f2f>\u001b[0m in \u001b[0;36m<module>\u001b[0;34m\u001b[0m\n\u001b[1;32m      3\u001b[0m \u001b[0ma\u001b[0m \u001b[0;34m=\u001b[0m \u001b[0mser\u001b[0m\u001b[0;34m.\u001b[0m\u001b[0mCRC\u001b[0m\u001b[0;34m.\u001b[0m\u001b[0mVerify_CRC_8\u001b[0m\u001b[0;34m(\u001b[0m\u001b[0mdata\u001b[0m\u001b[0;34m,\u001b[0m \u001b[0;36m3\u001b[0m\u001b[0;34m)\u001b[0m\u001b[0;34m\u001b[0m\u001b[0;34m\u001b[0m\u001b[0m\n\u001b[1;32m      4\u001b[0m \u001b[0mprint\u001b[0m \u001b[0;34m(\u001b[0m\u001b[0ma\u001b[0m\u001b[0;34m)\u001b[0m\u001b[0;34m\u001b[0m\u001b[0;34m\u001b[0m\u001b[0m\n\u001b[0;32m----> 5\u001b[0;31m \u001b[0mb\u001b[0m \u001b[0;34m=\u001b[0m \u001b[0mser\u001b[0m\u001b[0;34m.\u001b[0m\u001b[0mCRC\u001b[0m\u001b[0;34m.\u001b[0m\u001b[0mVerify_CRC_16\u001b[0m\u001b[0;34m(\u001b[0m\u001b[0mdata\u001b[0m\u001b[0;34m,\u001b[0m \u001b[0;36m10\u001b[0m\u001b[0;34m)\u001b[0m\u001b[0;34m\u001b[0m\u001b[0;34m\u001b[0m\u001b[0m\n\u001b[0m\u001b[1;32m      6\u001b[0m \u001b[0mprint\u001b[0m \u001b[0;34m(\u001b[0m\u001b[0mb\u001b[0m\u001b[0;34m)\u001b[0m\u001b[0;34m\u001b[0m\u001b[0;34m\u001b[0m\u001b[0m\n\u001b[1;32m      7\u001b[0m \u001b[0msdata\u001b[0m \u001b[0;34m=\u001b[0m \u001b[0;34m[\u001b[0m\u001b[0;36m165\u001b[0m\u001b[0;34m,\u001b[0m \u001b[0;36m3\u001b[0m\u001b[0;34m,\u001b[0m \u001b[0;36m456456\u001b[0m\u001b[0;34m,\u001b[0m \u001b[0;36m187\u001b[0m\u001b[0;34m,\u001b[0m \u001b[0;36m10\u001b[0m\u001b[0;34m,\u001b[0m \u001b[0;36m215\u001b[0m\u001b[0;34m,\u001b[0m \u001b[0;36m227\u001b[0m\u001b[0;34m,\u001b[0m \u001b[0;36m64\u001b[0m\u001b[0;34m,\u001b[0m \u001b[0;36m4564564\u001b[0m\u001b[0;34m,\u001b[0m \u001b[0;36m345\u001b[0m\u001b[0;34m]\u001b[0m\u001b[0;34m\u001b[0m\u001b[0;34m\u001b[0m\u001b[0m\n",
      "\u001b[0;32m~/ArmorDetect-Python/Serial.py\u001b[0m in \u001b[0;36mVerify_CRC_16\u001b[0;34m(self, data, length)\u001b[0m\n\u001b[1;32m    101\u001b[0m         \u001b[0;32mif\u001b[0m \u001b[0;34m(\u001b[0m\u001b[0mdata\u001b[0m \u001b[0;32mis\u001b[0m \u001b[0;32mNone\u001b[0m\u001b[0;34m)\u001b[0m \u001b[0;32mor\u001b[0m \u001b[0;34m(\u001b[0m\u001b[0mlength\u001b[0m \u001b[0;34m<=\u001b[0m \u001b[0;36m2\u001b[0m\u001b[0;34m)\u001b[0m\u001b[0;34m:\u001b[0m\u001b[0;34m\u001b[0m\u001b[0;34m\u001b[0m\u001b[0m\n\u001b[1;32m    102\u001b[0m             \u001b[0;32mreturn\u001b[0m \u001b[0;32mFalse\u001b[0m\u001b[0;34m\u001b[0m\u001b[0;34m\u001b[0m\u001b[0m\n\u001b[0;32m--> 103\u001b[0;31m         \u001b[0mexpected\u001b[0m \u001b[0;34m=\u001b[0m \u001b[0mself\u001b[0m\u001b[0;34m.\u001b[0m\u001b[0mGet_CRC_16\u001b[0m\u001b[0;34m(\u001b[0m\u001b[0mdata\u001b[0m\u001b[0;34m,\u001b[0m \u001b[0mlength\u001b[0m\u001b[0;34m-\u001b[0m\u001b[0;36m2\u001b[0m\u001b[0;34m,\u001b[0m \u001b[0mself\u001b[0m\u001b[0;34m.\u001b[0m\u001b[0mCRC_INIT\u001b[0m\u001b[0;34m)\u001b[0m\u001b[0;34m\u001b[0m\u001b[0;34m\u001b[0m\u001b[0m\n\u001b[0m\u001b[1;32m    104\u001b[0m         \u001b[0;32mreturn\u001b[0m \u001b[0;34m(\u001b[0m\u001b[0mexpected\u001b[0m\u001b[0;34m&\u001b[0m\u001b[0;36m0xff\u001b[0m\u001b[0;34m)\u001b[0m\u001b[0;34m==\u001b[0m\u001b[0mdata\u001b[0m\u001b[0;34m[\u001b[0m\u001b[0mlength\u001b[0m\u001b[0;34m-\u001b[0m\u001b[0;36m2\u001b[0m\u001b[0;34m]\u001b[0m \u001b[0;32mand\u001b[0m \u001b[0;34m(\u001b[0m\u001b[0;34m(\u001b[0m\u001b[0mexpected\u001b[0m\u001b[0;34m>>\u001b[0m\u001b[0;36m8\u001b[0m\u001b[0;34m)\u001b[0m\u001b[0;34m&\u001b[0m\u001b[0;36m0xff\u001b[0m\u001b[0;34m)\u001b[0m\u001b[0;34m==\u001b[0m\u001b[0mdata\u001b[0m\u001b[0;34m[\u001b[0m\u001b[0mlength\u001b[0m\u001b[0;34m-\u001b[0m\u001b[0;36m1\u001b[0m\u001b[0;34m]\u001b[0m\u001b[0;34m\u001b[0m\u001b[0;34m\u001b[0m\u001b[0m\n\u001b[1;32m    105\u001b[0m \u001b[0;34m\u001b[0m\u001b[0m\n",
      "\u001b[0;32m~/ArmorDetect-Python/Serial.py\u001b[0m in \u001b[0;36mGet_CRC_16\u001b[0;34m(self, data, length, wCRC)\u001b[0m\n\u001b[1;32m     94\u001b[0m         \u001b[0;32mfor\u001b[0m \u001b[0mi\u001b[0m \u001b[0;32min\u001b[0m \u001b[0mrange\u001b[0m\u001b[0;34m(\u001b[0m\u001b[0mlength\u001b[0m\u001b[0;34m)\u001b[0m\u001b[0;34m:\u001b[0m\u001b[0;34m\u001b[0m\u001b[0;34m\u001b[0m\u001b[0m\n\u001b[1;32m     95\u001b[0m             \u001b[0mchData\u001b[0m \u001b[0;34m=\u001b[0m \u001b[0mdata\u001b[0m\u001b[0;34m[\u001b[0m\u001b[0mi\u001b[0m\u001b[0;34m]\u001b[0m\u001b[0;34m\u001b[0m\u001b[0;34m\u001b[0m\u001b[0m\n\u001b[0;32m---> 96\u001b[0;31m             \u001b[0mwCRC\u001b[0m \u001b[0;34m=\u001b[0m \u001b[0mwCRC\u001b[0m\u001b[0;34m>>\u001b[0m\u001b[0;36m8\u001b[0m \u001b[0;34m^\u001b[0m \u001b[0mself\u001b[0m\u001b[0;34m.\u001b[0m\u001b[0mwCRC_Table\u001b[0m\u001b[0;34m[\u001b[0m\u001b[0;34m(\u001b[0m\u001b[0mwCRC\u001b[0m \u001b[0;34m^\u001b[0m \u001b[0mchData\u001b[0m\u001b[0;34m)\u001b[0m \u001b[0;34m&\u001b[0m \u001b[0;36m0x00ff\u001b[0m\u001b[0;34m]\u001b[0m\u001b[0;34m\u001b[0m\u001b[0;34m\u001b[0m\u001b[0m\n\u001b[0m\u001b[1;32m     97\u001b[0m         \u001b[0;32mreturn\u001b[0m \u001b[0mwCRC\u001b[0m\u001b[0;34m\u001b[0m\u001b[0;34m\u001b[0m\u001b[0m\n\u001b[1;32m     98\u001b[0m \u001b[0;34m\u001b[0m\u001b[0m\n",
      "\u001b[0;31mTypeError\u001b[0m: unsupported operand type(s) for ^: 'int' and 'float'"
     ]
    }
   ],
   "source": [
    "for i in range(len(data)):\n",
    "    print (data[i])\n",
    "a = ser.CRC.Verify_CRC_8(data, 3)\n",
    "print (a)\n",
    "b = ser.CRC.Verify_CRC_16(data, 10)\n",
    "print (b)\n",
    "sdata = [165, 3, 456456, 187, 10, 215, 227, 64, 4564564, 345]\n",
    "sdata = ser.CRC.Append_CRC_8(sdata, 3)\n",
    "sdata = ser.CRC.Append_CRC_16(sdata, 10)\n",
    "print (sdata)\n",
    "\n",
    "\n",
    "import struct\n",
    "fmt = ''\n",
    "# data = struct.unpack(fmt, )"
   ]
  },
  {
   "cell_type": "code",
   "execution_count": 20,
   "id": "natural-quantum",
   "metadata": {},
   "outputs": [
    {
     "name": "stdout",
     "output_type": "stream",
     "text": [
      "/dev/ttyUSB0\n",
      "/dev/ttyUSB0\n",
      "9600\n",
      "8\n",
      "N\n",
      "1\n",
      "1\n",
      "None\n",
      "False\n",
      "False\n",
      "False\n",
      "None\n",
      "True\n"
     ]
    }
   ],
   "source": [
    "print(ser.name) #设备名字\n",
    "print(ser.port)#读或者写端口\n",
    "print(ser.baudrate)#波特率\n",
    "print(ser.bytesize)#字节大小\n",
    "print(ser.parity)#校验位\n",
    "print(ser.stopbits)#停止位\n",
    "print(ser.timeout)#读超时设置\n",
    "print(ser.writeTimeout)#写超时\n",
    "print(ser.xonxoff)#软件流控\n",
    "print(ser.rtscts)#软件流控\n",
    "print(ser.dsrdtr)#硬件流控\n",
    "print(ser.interCharTimeout)#字符间隔超时\n",
    "print (ser.isOpen())"
   ]
  },
  {
   "cell_type": "code",
   "execution_count": 18,
   "id": "correct-bibliography",
   "metadata": {},
   "outputs": [],
   "source": [
    "ser.close()\n",
    "ser.close()\n",
    "ser.open()\n"
   ]
  },
  {
   "cell_type": "code",
   "execution_count": 2,
   "id": "empty-internship",
   "metadata": {},
   "outputs": [
    {
     "data": {
      "text/plain": [
       "[1, 4, 9, 9, 529, 16, 1936, 16, 16]"
      ]
     },
     "execution_count": 2,
     "metadata": {},
     "output_type": "execute_result"
    }
   ],
   "source": [
    "a = [1,2,3,3,23,4,44,4,4]\n",
    "b = [i*i for i in a]\n",
    "b"
   ]
  }
 ],
 "metadata": {
  "kernelspec": {
   "display_name": "Python 3",
   "language": "python",
   "name": "python3"
  },
  "language_info": {
   "codemirror_mode": {
    "name": "ipython",
    "version": 3
   },
   "file_extension": ".py",
   "mimetype": "text/x-python",
   "name": "python",
   "nbconvert_exporter": "python",
   "pygments_lexer": "ipython3",
   "version": "3.8.5"
  }
 },
 "nbformat": 4,
 "nbformat_minor": 5
}
