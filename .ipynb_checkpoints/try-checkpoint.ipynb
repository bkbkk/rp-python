{
 "cells": [
  {
   "cell_type": "code",
   "execution_count": 20,
   "id": "043e5897-54da-4765-8f7e-756cfeb97535",
   "metadata": {},
   "outputs": [],
   "source": [
    "import sys\n",
    "sys.path.remove('/opt/ros/kinetic/lib/python2.7/dist-packages')\n",
    "import cv2\n",
    "import struct"
   ]
  },
  {
   "cell_type": "code",
   "execution_count": 27,
   "id": "053e4721-d99d-48ff-a3ee-0ea08b35a62f",
   "metadata": {},
   "outputs": [
    {
     "name": "stdout",
     "output_type": "stream",
     "text": [
      "b'\\xa5\\x03\\x00\\xbb\\n\\xd7\\xe3@\\x00\\x00'\n",
      "[165, 3, 0, 187, 10, 215, 227, 64, 0, 0]\n",
      "[165, 3, 114, 187, 10, 215, 227, 64, 255, 180]\n"
     ]
    }
   ],
   "source": [
    "fmt = 'BBBBfBB'\n",
    "a = [0xa5, 3, 0x00, 187, 7.12, 0x00, 0x00]\n",
    "b = struct.pack(fmt, *a)\n",
    "print (b)\n",
    "c = [i for i in b]\n",
    "print (c)\n",
    "c = ser.CRC.Append_CRC_8(c, 3)\n",
    "c = ser.CRC.Append_CRC_16(c, 10)\n",
    "print (c)"
   ]
  },
  {
   "cell_type": "code",
   "execution_count": 10,
   "id": "0e42093b-8df1-424f-9943-fca02b41eb4e",
   "metadata": {},
   "outputs": [
    {
     "name": "stdout",
     "output_type": "stream",
     "text": [
      "b'\\xa5'\n"
     ]
    }
   ],
   "source": [
    "a = b'\\xa5' + b'\\x03\\xbb'\n",
    "print (a[0:1])\n",
    "# print (struct.pack('B', 114))"
   ]
  },
  {
   "cell_type": "code",
   "execution_count": 46,
   "id": "6dc19036-9594-4e14-93ea-0e49573fe0b8",
   "metadata": {},
   "outputs": [
    {
     "name": "stdout",
     "output_type": "stream",
     "text": [
      "b'\\n\\xd7\\xe3@\\xbb'\n",
      "5\n"
     ]
    }
   ],
   "source": [
    "a = b'\\xa5\\x03\\x00'\n",
    "b = struct.pack('fB', 7.12, 187)\n",
    "# c = struct.calcsize('fB')\n",
    "print (b)\n",
    "print (len(b))\n",
    "# print (c)"
   ]
  },
  {
   "cell_type": "code",
   "execution_count": 1,
   "id": "dd521a0c-c41d-420f-989a-8b3455d144f0",
   "metadata": {},
   "outputs": [
    {
     "name": "stdout",
     "output_type": "stream",
     "text": [
      "receive data length:  10\n",
      "send    data length:  10\n"
     ]
    }
   ],
   "source": [
    "from Serial import SerialPort\n",
    "port  = '/dev/ttyUSB1'\n",
    "bps   = 115200\n",
    "timeout = 1\n",
    "ser = SerialPort(port, bps, timeout)\n",
    "# ser.GetParam()\n",
    "# print (ser.CRC.CRC8_INIT)"
   ]
  },
  {
   "cell_type": "code",
   "execution_count": 2,
   "id": "13b81200-cb17-4622-8bae-20b49f980762",
   "metadata": {},
   "outputs": [
    {
     "name": "stdout",
     "output_type": "stream",
     "text": [
      "name:          /dev/ttyUSB1\n",
      "port:          /dev/ttyUSB1\n",
      "baudrate:      115200\n",
      "bytesize:      8\n",
      "parity:        N\n",
      "stopbits:      1\n",
      "readTimeout:   0\n",
      "writeTimeout:  None\n",
      "reopen the serial and set the param, now status:  True\n"
     ]
    }
   ],
   "source": [
    "ser.SetParam(readtimeout=0)"
   ]
  },
  {
   "cell_type": "code",
   "execution_count": 6,
   "id": "aa7643ea-9d16-48f1-889d-748192773c97",
   "metadata": {},
   "outputs": [
    {
     "name": "stdout",
     "output_type": "stream",
     "text": [
      "send    buffer:          0\n",
      "receive buffer:          80\n",
      "serial open status:  False\n",
      "serial open status:  True\n",
      "send    buffer:          0\n",
      "receive buffer:          0\n"
     ]
    }
   ],
   "source": [
    "ser.PrintBuffer()\n",
    "ser.Close()\n",
    "ser.Open()\n",
    "ser.PrintBuffer()"
   ]
  },
  {
   "cell_type": "code",
   "execution_count": 54,
   "id": "f15e71a7-cde0-4c32-bf44-b3f186953ee8",
   "metadata": {},
   "outputs": [
    {
     "name": "stdout",
     "output_type": "stream",
     "text": [
      "b'\\xa5\\x03r\\xbb\\n\\xd7\\xe3@\\xff\\xb4'\n",
      "[165, 3, 114, 187, 7.119999885559082, 255, 180]\n",
      "before out buffer:  0\n",
      "result:  10\n",
      "before out buffer:  0\n",
      "b'\\xa5\\x03r\\xbb\\n\\xd7\\xe3@\\xff\\xb4'\n"
     ]
    }
   ],
   "source": [
    "data = ser.serial.read(10)\n",
    "print (data)\n",
    "# a = [i for i in data]\n",
    "# print (a)\n",
    "# print (data[0:10])\n",
    "# import time\n",
    "# while True:\n",
    "#     time.sleep(0.06)\n",
    "data = ser.Receive()\n",
    "print (data)\n",
    "Data = {'mode':3, 'pitch': 187, 'yaw': 7.12}\n",
    "data_byte = ser.Send(Data)\n",
    "print (data_byte)"
   ]
  },
  {
   "cell_type": "code",
   "execution_count": 34,
   "id": "d46f5b19-6fad-4e1a-940b-2d8b9be5cb9b",
   "metadata": {},
   "outputs": [
    {
     "name": "stdout",
     "output_type": "stream",
     "text": [
      "165\n",
      "3\n",
      "114\n",
      "187\n",
      "7.119999885559082\n",
      "255\n",
      "180\n",
      "True\n"
     ]
    },
    {
     "ename": "TypeError",
     "evalue": "unsupported operand type(s) for ^: 'int' and 'float'",
     "output_type": "error",
     "traceback": [
      "\u001b[0;31m---------------------------------------------------------------------------\u001b[0m",
      "\u001b[0;31mTypeError\u001b[0m                                 Traceback (most recent call last)",
      "\u001b[0;32m<ipython-input-34-52555f4a3f2f>\u001b[0m in \u001b[0;36m<module>\u001b[0;34m\u001b[0m\n\u001b[1;32m      3\u001b[0m \u001b[0ma\u001b[0m \u001b[0;34m=\u001b[0m \u001b[0mser\u001b[0m\u001b[0;34m.\u001b[0m\u001b[0mCRC\u001b[0m\u001b[0;34m.\u001b[0m\u001b[0mVerify_CRC_8\u001b[0m\u001b[0;34m(\u001b[0m\u001b[0mdata\u001b[0m\u001b[0;34m,\u001b[0m \u001b[0;36m3\u001b[0m\u001b[0;34m)\u001b[0m\u001b[0;34m\u001b[0m\u001b[0;34m\u001b[0m\u001b[0m\n\u001b[1;32m      4\u001b[0m \u001b[0mprint\u001b[0m \u001b[0;34m(\u001b[0m\u001b[0ma\u001b[0m\u001b[0;34m)\u001b[0m\u001b[0;34m\u001b[0m\u001b[0;34m\u001b[0m\u001b[0m\n\u001b[0;32m----> 5\u001b[0;31m \u001b[0mb\u001b[0m \u001b[0;34m=\u001b[0m \u001b[0mser\u001b[0m\u001b[0;34m.\u001b[0m\u001b[0mCRC\u001b[0m\u001b[0;34m.\u001b[0m\u001b[0mVerify_CRC_16\u001b[0m\u001b[0;34m(\u001b[0m\u001b[0mdata\u001b[0m\u001b[0;34m,\u001b[0m \u001b[0;36m10\u001b[0m\u001b[0;34m)\u001b[0m\u001b[0;34m\u001b[0m\u001b[0;34m\u001b[0m\u001b[0m\n\u001b[0m\u001b[1;32m      6\u001b[0m \u001b[0mprint\u001b[0m \u001b[0;34m(\u001b[0m\u001b[0mb\u001b[0m\u001b[0;34m)\u001b[0m\u001b[0;34m\u001b[0m\u001b[0;34m\u001b[0m\u001b[0m\n\u001b[1;32m      7\u001b[0m \u001b[0msdata\u001b[0m \u001b[0;34m=\u001b[0m \u001b[0;34m[\u001b[0m\u001b[0;36m165\u001b[0m\u001b[0;34m,\u001b[0m \u001b[0;36m3\u001b[0m\u001b[0;34m,\u001b[0m \u001b[0;36m456456\u001b[0m\u001b[0;34m,\u001b[0m \u001b[0;36m187\u001b[0m\u001b[0;34m,\u001b[0m \u001b[0;36m10\u001b[0m\u001b[0;34m,\u001b[0m \u001b[0;36m215\u001b[0m\u001b[0;34m,\u001b[0m \u001b[0;36m227\u001b[0m\u001b[0;34m,\u001b[0m \u001b[0;36m64\u001b[0m\u001b[0;34m,\u001b[0m \u001b[0;36m4564564\u001b[0m\u001b[0;34m,\u001b[0m \u001b[0;36m345\u001b[0m\u001b[0;34m]\u001b[0m\u001b[0;34m\u001b[0m\u001b[0;34m\u001b[0m\u001b[0m\n",
      "\u001b[0;32m~/ArmorDetect-Python/Serial.py\u001b[0m in \u001b[0;36mVerify_CRC_16\u001b[0;34m(self, data, length)\u001b[0m\n\u001b[1;32m    101\u001b[0m         \u001b[0;32mif\u001b[0m \u001b[0;34m(\u001b[0m\u001b[0mdata\u001b[0m \u001b[0;32mis\u001b[0m \u001b[0;32mNone\u001b[0m\u001b[0;34m)\u001b[0m \u001b[0;32mor\u001b[0m \u001b[0;34m(\u001b[0m\u001b[0mlength\u001b[0m \u001b[0;34m<=\u001b[0m \u001b[0;36m2\u001b[0m\u001b[0;34m)\u001b[0m\u001b[0;34m:\u001b[0m\u001b[0;34m\u001b[0m\u001b[0;34m\u001b[0m\u001b[0m\n\u001b[1;32m    102\u001b[0m             \u001b[0;32mreturn\u001b[0m \u001b[0;32mFalse\u001b[0m\u001b[0;34m\u001b[0m\u001b[0;34m\u001b[0m\u001b[0m\n\u001b[0;32m--> 103\u001b[0;31m         \u001b[0mexpected\u001b[0m \u001b[0;34m=\u001b[0m \u001b[0mself\u001b[0m\u001b[0;34m.\u001b[0m\u001b[0mGet_CRC_16\u001b[0m\u001b[0;34m(\u001b[0m\u001b[0mdata\u001b[0m\u001b[0;34m,\u001b[0m \u001b[0mlength\u001b[0m\u001b[0;34m-\u001b[0m\u001b[0;36m2\u001b[0m\u001b[0;34m,\u001b[0m \u001b[0mself\u001b[0m\u001b[0;34m.\u001b[0m\u001b[0mCRC_INIT\u001b[0m\u001b[0;34m)\u001b[0m\u001b[0;34m\u001b[0m\u001b[0;34m\u001b[0m\u001b[0m\n\u001b[0m\u001b[1;32m    104\u001b[0m         \u001b[0;32mreturn\u001b[0m \u001b[0;34m(\u001b[0m\u001b[0mexpected\u001b[0m\u001b[0;34m&\u001b[0m\u001b[0;36m0xff\u001b[0m\u001b[0;34m)\u001b[0m\u001b[0;34m==\u001b[0m\u001b[0mdata\u001b[0m\u001b[0;34m[\u001b[0m\u001b[0mlength\u001b[0m\u001b[0;34m-\u001b[0m\u001b[0;36m2\u001b[0m\u001b[0;34m]\u001b[0m \u001b[0;32mand\u001b[0m \u001b[0;34m(\u001b[0m\u001b[0;34m(\u001b[0m\u001b[0mexpected\u001b[0m\u001b[0;34m>>\u001b[0m\u001b[0;36m8\u001b[0m\u001b[0;34m)\u001b[0m\u001b[0;34m&\u001b[0m\u001b[0;36m0xff\u001b[0m\u001b[0;34m)\u001b[0m\u001b[0;34m==\u001b[0m\u001b[0mdata\u001b[0m\u001b[0;34m[\u001b[0m\u001b[0mlength\u001b[0m\u001b[0;34m-\u001b[0m\u001b[0;36m1\u001b[0m\u001b[0;34m]\u001b[0m\u001b[0;34m\u001b[0m\u001b[0;34m\u001b[0m\u001b[0m\n\u001b[1;32m    105\u001b[0m \u001b[0;34m\u001b[0m\u001b[0m\n",
      "\u001b[0;32m~/ArmorDetect-Python/Serial.py\u001b[0m in \u001b[0;36mGet_CRC_16\u001b[0;34m(self, data, length, wCRC)\u001b[0m\n\u001b[1;32m     94\u001b[0m         \u001b[0;32mfor\u001b[0m \u001b[0mi\u001b[0m \u001b[0;32min\u001b[0m \u001b[0mrange\u001b[0m\u001b[0;34m(\u001b[0m\u001b[0mlength\u001b[0m\u001b[0;34m)\u001b[0m\u001b[0;34m:\u001b[0m\u001b[0;34m\u001b[0m\u001b[0;34m\u001b[0m\u001b[0m\n\u001b[1;32m     95\u001b[0m             \u001b[0mchData\u001b[0m \u001b[0;34m=\u001b[0m \u001b[0mdata\u001b[0m\u001b[0;34m[\u001b[0m\u001b[0mi\u001b[0m\u001b[0;34m]\u001b[0m\u001b[0;34m\u001b[0m\u001b[0;34m\u001b[0m\u001b[0m\n\u001b[0;32m---> 96\u001b[0;31m             \u001b[0mwCRC\u001b[0m \u001b[0;34m=\u001b[0m \u001b[0mwCRC\u001b[0m\u001b[0;34m>>\u001b[0m\u001b[0;36m8\u001b[0m \u001b[0;34m^\u001b[0m \u001b[0mself\u001b[0m\u001b[0;34m.\u001b[0m\u001b[0mwCRC_Table\u001b[0m\u001b[0;34m[\u001b[0m\u001b[0;34m(\u001b[0m\u001b[0mwCRC\u001b[0m \u001b[0;34m^\u001b[0m \u001b[0mchData\u001b[0m\u001b[0;34m)\u001b[0m \u001b[0;34m&\u001b[0m \u001b[0;36m0x00ff\u001b[0m\u001b[0;34m]\u001b[0m\u001b[0;34m\u001b[0m\u001b[0;34m\u001b[0m\u001b[0m\n\u001b[0m\u001b[1;32m     97\u001b[0m         \u001b[0;32mreturn\u001b[0m \u001b[0mwCRC\u001b[0m\u001b[0;34m\u001b[0m\u001b[0;34m\u001b[0m\u001b[0m\n\u001b[1;32m     98\u001b[0m \u001b[0;34m\u001b[0m\u001b[0m\n",
      "\u001b[0;31mTypeError\u001b[0m: unsupported operand type(s) for ^: 'int' and 'float'"
     ]
    }
   ],
   "source": [
    "for i in range(len(data)):\n",
    "    print (data[i])\n",
    "a = ser.CRC.Verify_CRC_8(data, 3)\n",
    "print (a)\n",
    "b = ser.CRC.Verify_CRC_16(data, 10)\n",
    "print (b)\n",
    "sdata = [165, 3, 456456, 187, 10, 215, 227, 64, 4564564, 345]\n",
    "sdata = ser.CRC.Append_CRC_8(sdata, 3)\n",
    "sdata = ser.CRC.Append_CRC_16(sdata, 10)\n",
    "print (sdata)\n",
    "\n",
    "\n",
    "import struct\n",
    "fmt = ''\n",
    "# data = struct.unpack(fmt, )"
   ]
  },
  {
   "cell_type": "code",
   "execution_count": 20,
   "id": "0c889294-e831-4508-8da3-e05fe8c60591",
   "metadata": {},
   "outputs": [
    {
     "name": "stdout",
     "output_type": "stream",
     "text": [
      "/dev/ttyUSB0\n",
      "/dev/ttyUSB0\n",
      "9600\n",
      "8\n",
      "N\n",
      "1\n",
      "1\n",
      "None\n",
      "False\n",
      "False\n",
      "False\n",
      "None\n",
      "True\n"
     ]
    }
   ],
   "source": [
    "print(ser.name) #设备名字\n",
    "print(ser.port)#读或者写端口\n",
    "print(ser.baudrate)#波特率\n",
    "print(ser.bytesize)#字节大小\n",
    "print(ser.parity)#校验位\n",
    "print(ser.stopbits)#停止位\n",
    "print(ser.timeout)#读超时设置\n",
    "print(ser.writeTimeout)#写超时\n",
    "print(ser.xonxoff)#软件流控\n",
    "print(ser.rtscts)#软件流控\n",
    "print(ser.dsrdtr)#硬件流控\n",
    "print(ser.interCharTimeout)#字符间隔超时\n",
    "print (ser.isOpen())"
   ]
  },
  {
   "cell_type": "code",
   "execution_count": 18,
   "id": "59a27271-346d-4734-bbac-a0ebb068c8c6",
   "metadata": {},
   "outputs": [],
   "source": [
    "ser.close()\n",
    "ser.close()\n",
    "ser.open()\n"
   ]
  },
  {
   "cell_type": "code",
   "execution_count": 3,
   "id": "92833a94-b05e-4f53-87d3-fb1d4e5a9102",
   "metadata": {},
   "outputs": [
    {
     "data": {
      "text/plain": [
       "['BAUDRATES',\n",
       " 'BAUDRATE_CONSTANTS',\n",
       " 'BYTESIZES',\n",
       " 'PARITIES',\n",
       " 'STOPBITS',\n",
       " '_SAVED_SETTINGS',\n",
       " '__abstractmethods__',\n",
       " '__class__',\n",
       " '__del__',\n",
       " '__delattr__',\n",
       " '__dict__',\n",
       " '__dir__',\n",
       " '__doc__',\n",
       " '__enter__',\n",
       " '__eq__',\n",
       " '__exit__',\n",
       " '__format__',\n",
       " '__ge__',\n",
       " '__getattribute__',\n",
       " '__gt__',\n",
       " '__hash__',\n",
       " '__init__',\n",
       " '__init_subclass__',\n",
       " '__iter__',\n",
       " '__le__',\n",
       " '__lt__',\n",
       " '__module__',\n",
       " '__ne__',\n",
       " '__new__',\n",
       " '__next__',\n",
       " '__reduce__',\n",
       " '__reduce_ex__',\n",
       " '__repr__',\n",
       " '__setattr__',\n",
       " '__sizeof__',\n",
       " '__str__',\n",
       " '__subclasshook__',\n",
       " '__weakref__',\n",
       " '_abc_impl',\n",
       " '_baudrate',\n",
       " '_break_state',\n",
       " '_bytesize',\n",
       " '_checkClosed',\n",
       " '_checkReadable',\n",
       " '_checkSeekable',\n",
       " '_checkWritable',\n",
       " '_dsrdtr',\n",
       " '_dtr_state',\n",
       " '_exclusive',\n",
       " '_inter_byte_timeout',\n",
       " '_parity',\n",
       " '_port',\n",
       " '_reconfigure_port',\n",
       " '_reset_input_buffer',\n",
       " '_rs485_mode',\n",
       " '_rts_state',\n",
       " '_rtscts',\n",
       " '_set_rs485_mode',\n",
       " '_set_special_baudrate',\n",
       " '_stopbits',\n",
       " '_timeout',\n",
       " '_update_break_state',\n",
       " '_update_dtr_state',\n",
       " '_update_rts_state',\n",
       " '_write_timeout',\n",
       " '_xonxoff',\n",
       " 'applySettingsDict',\n",
       " 'apply_settings',\n",
       " 'baudrate',\n",
       " 'break_condition',\n",
       " 'bytesize',\n",
       " 'cancel_read',\n",
       " 'cancel_write',\n",
       " 'cd',\n",
       " 'close',\n",
       " 'closed',\n",
       " 'cts',\n",
       " 'dsr',\n",
       " 'dsrdtr',\n",
       " 'dtr',\n",
       " 'exclusive',\n",
       " 'fd',\n",
       " 'fileno',\n",
       " 'flush',\n",
       " 'flushInput',\n",
       " 'flushOutput',\n",
       " 'getCD',\n",
       " 'getCTS',\n",
       " 'getDSR',\n",
       " 'getRI',\n",
       " 'getSettingsDict',\n",
       " 'get_settings',\n",
       " 'inWaiting',\n",
       " 'in_waiting',\n",
       " 'interCharTimeout',\n",
       " 'inter_byte_timeout',\n",
       " 'iread_until',\n",
       " 'isOpen',\n",
       " 'is_open',\n",
       " 'isatty',\n",
       " 'name',\n",
       " 'nonblocking',\n",
       " 'open',\n",
       " 'out_waiting',\n",
       " 'parity',\n",
       " 'pipe_abort_read_r',\n",
       " 'pipe_abort_read_w',\n",
       " 'pipe_abort_write_r',\n",
       " 'pipe_abort_write_w',\n",
       " 'port',\n",
       " 'portstr',\n",
       " 'read',\n",
       " 'read_all',\n",
       " 'read_until',\n",
       " 'readable',\n",
       " 'readall',\n",
       " 'readinto',\n",
       " 'readline',\n",
       " 'readlines',\n",
       " 'reset_input_buffer',\n",
       " 'reset_output_buffer',\n",
       " 'ri',\n",
       " 'rs485_mode',\n",
       " 'rts',\n",
       " 'rtscts',\n",
       " 'seek',\n",
       " 'seekable',\n",
       " 'sendBreak',\n",
       " 'send_break',\n",
       " 'setDTR',\n",
       " 'setPort',\n",
       " 'setRTS',\n",
       " 'set_input_flow_control',\n",
       " 'set_low_latency_mode',\n",
       " 'set_output_flow_control',\n",
       " 'stopbits',\n",
       " 'tell',\n",
       " 'timeout',\n",
       " 'truncate',\n",
       " 'writable',\n",
       " 'write',\n",
       " 'writeTimeout',\n",
       " 'write_timeout',\n",
       " 'writelines',\n",
       " 'xonxoff']"
      ]
     },
     "execution_count": 3,
     "metadata": {},
     "output_type": "execute_result"
    }
   ],
   "source": [
    "dir(ser)"
   ]
  }
 ],
 "metadata": {
  "kernelspec": {
   "display_name": "Python 3",
   "language": "python",
   "name": "python3"
  },
  "language_info": {
   "codemirror_mode": {
    "name": "ipython",
    "version": 3
   },
   "file_extension": ".py",
   "mimetype": "text/x-python",
   "name": "python",
   "nbconvert_exporter": "python",
   "pygments_lexer": "ipython3",
   "version": "3.8.10"
  }
 },
 "nbformat": 4,
 "nbformat_minor": 5
}
